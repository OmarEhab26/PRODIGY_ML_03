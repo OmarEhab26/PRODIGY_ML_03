{
 "cells": [
  {
   "cell_type": "markdown",
   "metadata": {},
   "source": [
    "# Task 3: Classify Cats and Dogs images using SVM"
   ]
  },
  {
   "cell_type": "markdown",
   "metadata": {},
   "source": [
    "# Link to Dataset used\n",
    "https://www.kaggle.com/c/dogs-vs-cats/data"
   ]
  },
  {
   "cell_type": "markdown",
   "metadata": {},
   "source": [
    "# Importing Libraries"
   ]
  },
  {
   "cell_type": "code",
   "execution_count": 11,
   "metadata": {},
   "outputs": [],
   "source": [
    "# Importing the libraries\n",
    "import numpy as np\n",
    "import pandas as pd\n",
    "from sklearn import svm\n",
    "from sklearn.preprocessing import LabelEncoder\n",
    "from sklearn.model_selection import train_test_split\n",
    "from sklearn.metrics import confusion_matrix, precision_score, recall_score, accuracy_score, f1_score, classification_report\n",
    "import os\n",
    "from PIL import Image\n",
    "from skimage import color\n",
    "from skimage.feature import hog"
   ]
  },
  {
   "cell_type": "markdown",
   "metadata": {},
   "source": [
    "# Loading images and extracting the labels"
   ]
  },
  {
   "cell_type": "code",
   "execution_count": 51,
   "metadata": {},
   "outputs": [],
   "source": [
    "# Function to import and load images from the folders\n",
    "def load_images(folder, target_size = (64,64)):\n",
    "    images = []\n",
    "    filenames = []\n",
    "    for filename in os.listdir(folder):\n",
    "        img_path = os.path.join(folder, filename)\n",
    "        img = Image.open(img_path)\n",
    "        img = img.resize(target_size)\n",
    "        img_array = np.array(img)\n",
    "\n",
    "        # Converting images from RGB to Grey scale \n",
    "        gray_img = color.rgb2gray(img_array)\n",
    "\n",
    "        # Using HoG feature extraction to enhance accuracy\n",
    "        feature = hog(gray_img, pixels_per_cell=(32,32), cells_per_block=(2,2),  block_norm='L2-Hys', visualize=False)\n",
    "        \n",
    "        images.append(feature)\n",
    "        filenames.append(filename)\n",
    "\n",
    "    return images, filenames"
   ]
  },
  {
   "cell_type": "code",
   "execution_count": 52,
   "metadata": {},
   "outputs": [],
   "source": [
    "all_images, train_filenames = load_images('train')"
   ]
  },
  {
   "cell_type": "code",
   "execution_count": 55,
   "metadata": {},
   "outputs": [],
   "source": [
    "# Function to extract the labels from the image name in the data set\n",
    "def extract_labels(filenames):\n",
    "    labels = []\n",
    "    for filename in filenames:\n",
    "        label = filename.split('.')[0] # Extract \"cat\" or \"dog\"\n",
    "        labels.append(label)\n",
    "    return labels\n",
    "\n",
    "all_labels = extract_labels(train_filenames)"
   ]
  },
  {
   "cell_type": "markdown",
   "metadata": {},
   "source": [
    "# Function to evaluate model's performance "
   ]
  },
  {
   "cell_type": "code",
   "execution_count": 56,
   "metadata": {},
   "outputs": [],
   "source": [
    "# Evaluation Metrics Function\n",
    "def evaluate_model(true_labels, predicted_labels, label_encoder):\n",
    "    # Confusion Matrix\n",
    "    conf_matrix = confusion_matrix(true_labels, predicted_labels)\n",
    "    print(\"Confusion Matrix:\\n\", conf_matrix)\n",
    "    \n",
    "    # Accuracy\n",
    "    accuracy = accuracy_score(true_labels, predicted_labels)\n",
    "    print(f\"Accuracy: {accuracy:.2f}\")\n",
    "    \n",
    "    # Precision\n",
    "    precision = precision_score(true_labels, predicted_labels, average='binary', pos_label=1)\n",
    "    print(f\"Precision: {precision:.2f}\")\n",
    "    \n",
    "    # Recall\n",
    "    recall = recall_score(true_labels, predicted_labels, average='binary', pos_label=1)\n",
    "    print(f\"Recall: {recall:.2f}\")\n",
    "    \n",
    "    # F1 Score\n",
    "    f1 = f1_score(true_labels, predicted_labels, average='binary', pos_label=1)\n",
    "    print(f\"F1 Score: {f1:.2f}\")\n",
    "    \n",
    "    # Classification Report (gives precision, recall, f1-score for each class)\n",
    "    report = classification_report(true_labels, predicted_labels, target_names = label_encoder.classes_)\n",
    "    print(\"Classification Report:\\n\", report)"
   ]
  },
  {
   "cell_type": "markdown",
   "metadata": {},
   "source": [
    "# Encoding the data and splitting train and test sets"
   ]
  },
  {
   "cell_type": "code",
   "execution_count": 57,
   "metadata": {},
   "outputs": [],
   "source": [
    "# Flatten the images\n",
    "images = [img.flatten() for img in all_images]\n",
    "\n",
    "# Encode labels as 0 and 1 for \"cat\" and \"dog\" respectively\n",
    "label_encoding = LabelEncoder()\n",
    "labels = label_encoding.fit_transform(all_labels)\n",
    "\n",
    "# Splitting the dataset into train and test \n",
    "X_train, X_test, y_train, y_test = train_test_split(images, labels, test_size=0.2, random_state=0)"
   ]
  },
  {
   "cell_type": "markdown",
   "metadata": {},
   "source": [
    "# Training SVM, extracting predictions, and evaluating the model"
   ]
  },
  {
   "cell_type": "code",
   "execution_count": 58,
   "metadata": {},
   "outputs": [],
   "source": [
    "# Training the SVM model \n",
    "classifier = svm.SVC(kernel='rbf')\n",
    "classifier.fit(X_train, y_train)\n",
    "test_predictions = classifier.predict(X_test)\n",
    "\n",
    "# Convert the predictions and true labels back to \"cat\" or \"dog\" labels\n",
    "test_labels_predicted = label_encoding.inverse_transform(test_predictions)\n",
    "y_test_labels = label_encoding.inverse_transform(y_test)"
   ]
  },
  {
   "cell_type": "code",
   "execution_count": 61,
   "metadata": {},
   "outputs": [
    {
     "name": "stdout",
     "output_type": "stream",
     "text": [
      "['dog' 'cat' 'dog' ... 'cat' 'cat' 'cat']\n"
     ]
    }
   ],
   "source": [
    "print(y_test_labels)"
   ]
  },
  {
   "cell_type": "code",
   "execution_count": 62,
   "metadata": {},
   "outputs": [
    {
     "name": "stdout",
     "output_type": "stream",
     "text": [
      "[1 0 1 ... 0 0 0]\n"
     ]
    }
   ],
   "source": [
    "print(y_test)"
   ]
  },
  {
   "cell_type": "code",
   "execution_count": 63,
   "metadata": {},
   "outputs": [
    {
     "name": "stdout",
     "output_type": "stream",
     "text": [
      "['dog' 'cat' 'cat' ... 'dog' 'cat' 'cat']\n"
     ]
    }
   ],
   "source": [
    "print(test_labels_predicted)"
   ]
  },
  {
   "cell_type": "code",
   "execution_count": 64,
   "metadata": {},
   "outputs": [
    {
     "name": "stdout",
     "output_type": "stream",
     "text": [
      "[1 0 0 ... 1 0 0]\n"
     ]
    }
   ],
   "source": [
    "print(test_predictions)"
   ]
  },
  {
   "cell_type": "code",
   "execution_count": 65,
   "metadata": {},
   "outputs": [
    {
     "name": "stdout",
     "output_type": "stream",
     "text": [
      "Confusion Matrix:\n",
      " [[1712  784]\n",
      " [ 665 1839]]\n",
      "Accuracy: 0.71\n",
      "Precision: 0.70\n",
      "Recall: 0.73\n",
      "F1 Score: 0.72\n",
      "Classification Report:\n",
      "               precision    recall  f1-score   support\n",
      "\n",
      "         cat       0.72      0.69      0.70      2496\n",
      "         dog       0.70      0.73      0.72      2504\n",
      "\n",
      "    accuracy                           0.71      5000\n",
      "   macro avg       0.71      0.71      0.71      5000\n",
      "weighted avg       0.71      0.71      0.71      5000\n",
      "\n"
     ]
    }
   ],
   "source": [
    "evaluate_model(y_test, test_predictions, label_encoding)"
   ]
  }
 ],
 "metadata": {
  "kernelspec": {
   "display_name": "Python 3",
   "language": "python",
   "name": "python3"
  },
  "language_info": {
   "codemirror_mode": {
    "name": "ipython",
    "version": 3
   },
   "file_extension": ".py",
   "mimetype": "text/x-python",
   "name": "python",
   "nbconvert_exporter": "python",
   "pygments_lexer": "ipython3",
   "version": "3.11.3"
  }
 },
 "nbformat": 4,
 "nbformat_minor": 2
}
